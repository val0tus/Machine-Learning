{
  "nbformat": 4,
  "nbformat_minor": 0,
  "metadata": {
    "colab": {
      "name": "Text generation with LSTM.ipynb",
      "provenance": [],
      "collapsed_sections": [],
      "authorship_tag": "ABX9TyMa3y6WCbupWTSKyV1BFuOJ",
      "include_colab_link": true
    },
    "kernelspec": {
      "name": "python3",
      "display_name": "Python 3"
    }
  },
  "cells": [
    {
      "cell_type": "markdown",
      "metadata": {
        "id": "view-in-github",
        "colab_type": "text"
      },
      "source": [
        "<a href=\"https://colab.research.google.com/github/val0tus/Machine-Learning/blob/master/Text_generation_with_LSTM.ipynb\" target=\"_parent\"><img src=\"https://colab.research.google.com/assets/colab-badge.svg\" alt=\"Open In Colab\"/></a>"
      ]
    },
    {
      "cell_type": "markdown",
      "metadata": {
        "id": "XS_QyDI6-FSn",
        "colab_type": "text"
      },
      "source": [
        "Harri Valkonen "
      ]
    },
    {
      "cell_type": "code",
      "metadata": {
        "id": "K0_BKOXW-D7n",
        "colab_type": "code",
        "outputId": "f6fe4726-78db-42f8-943d-fbff6146d72d",
        "colab": {
          "base_uri": "https://localhost:8080/",
          "height": 51
        }
      },
      "source": [
        "import tensorflow as tf\n",
        "import keras\n",
        "keras.__version__"
      ],
      "execution_count": 1,
      "outputs": [
        {
          "output_type": "stream",
          "text": [
            "Using TensorFlow backend.\n"
          ],
          "name": "stderr"
        },
        {
          "output_type": "execute_result",
          "data": {
            "text/plain": [
              "'2.2.5'"
            ]
          },
          "metadata": {
            "tags": []
          },
          "execution_count": 1
        }
      ]
    },
    {
      "cell_type": "code",
      "metadata": {
        "id": "rbWDOCll-l3u",
        "colab_type": "code",
        "colab": {}
      },
      "source": [
        "import numpy as np"
      ],
      "execution_count": 0,
      "outputs": []
    },
    {
      "cell_type": "code",
      "metadata": {
        "id": "YNU2_xeXc6Ty",
        "colab_type": "code",
        "colab": {
          "base_uri": "https://localhost:8080/",
          "height": 34
        },
        "outputId": "71ac3a91-7753-4edb-8cd0-6795b8ab1dfb"
      },
      "source": [
        "!ls"
      ],
      "execution_count": 3,
      "outputs": [
        {
          "output_type": "stream",
          "text": [
            " sample_data  'text_generation (1).txt'   text_generation.txt\n"
          ],
          "name": "stdout"
        }
      ]
    },
    {
      "cell_type": "code",
      "metadata": {
        "id": "h4XJ5L0Iaqia",
        "colab_type": "code",
        "outputId": "5d44a454-8d4c-4543-ea68-80d39b927e69",
        "colab": {
          "resources": {
            "http://localhost:8080/nbextensions/google.colab/files.js": {
              "data": "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",
              "ok": true,
              "headers": [
                [
                  "content-type",
                  "application/javascript"
                ]
              ],
              "status": 200,
              "status_text": ""
            }
          },
          "base_uri": "https://localhost:8080/",
          "height": 74
        }
      },
      "source": [
        "from google.colab import files\n",
        "import os\n",
        "\n",
        "uploaded = files.upload()\n",
        "!ls\n",
        "os.getcwd()\n",
        "upload = '/content/text_generation.txt'\n",
        "text = open(upload).read().lower()\n",
        "print('Corpus length:', len(text))\n",
        "#keras.preprocessing.text.Tokenizer(num_words=None, filters='!\"#$%&()*+,-./:;<=>?@[\\\\]^_`{|}~\\t\\n', lower=True, split=' ', char_level=False, oov_token=None, document_count=0)"
      ],
      "execution_count": 4,
      "outputs": [
        {
          "output_type": "display_data",
          "data": {
            "text/html": [
              "\n",
              "     <input type=\"file\" id=\"files-a6c8e81b-481a-40f1-8584-213aae1a644b\" name=\"files[]\" multiple disabled />\n",
              "     <output id=\"result-a6c8e81b-481a-40f1-8584-213aae1a644b\">\n",
              "      Upload widget is only available when the cell has been executed in the\n",
              "      current browser session. Please rerun this cell to enable.\n",
              "      </output>\n",
              "      <script src=\"/nbextensions/google.colab/files.js\"></script> "
            ],
            "text/plain": [
              "<IPython.core.display.HTML object>"
            ]
          },
          "metadata": {
            "tags": []
          }
        },
        {
          "output_type": "stream",
          "text": [
            " sample_data  'text_generation (1).txt'   text_generation.txt\n",
            "Corpus length: 918848\n"
          ],
          "name": "stdout"
        }
      ]
    },
    {
      "cell_type": "code",
      "metadata": {
        "id": "8cyxEcGTCn1g",
        "colab_type": "code",
        "outputId": "2e1d2b1a-318c-4b72-b300-86ddc3f53102",
        "colab": {
          "base_uri": "https://localhost:8080/",
          "height": 68
        }
      },
      "source": [
        "# Length of extracted character sequences\n",
        "maxlen = 60\n",
        "\n",
        "# We sample a new sequence every `step` characters\n",
        "step = 3\n",
        "\n",
        "# This holds our extracted sequences\n",
        "sentences = []\n",
        "\n",
        "# This holds the targets (the follow-up characters)\n",
        "next_chars = []\n",
        "\n",
        "for i in range(0, len(text) - maxlen, step):\n",
        "    sentences.append(text[i: i + maxlen])\n",
        "    next_chars.append(text[i + maxlen])\n",
        "print('Number of sequences:', len(sentences))\n",
        "\n",
        "# List of unique characters in the corpus\n",
        "chars = sorted(list(set(text)))\n",
        "print('Unique characters:', len(chars))\n",
        "# Dictionary mapping unique characters to their index in `chars`\n",
        "char_indices = dict((char, chars.index(char)) for char in chars)\n",
        "\n",
        "# Next, one-hot encode the characters into binary arrays.\n",
        "print('Vectorization...')\n",
        "x = np.zeros((len(sentences), maxlen, len(chars)), dtype=np.bool)\n",
        "y = np.zeros((len(sentences), len(chars)), dtype=np.bool)\n",
        "for i, sentence in enumerate(sentences):\n",
        "    for t, char in enumerate(sentence):\n",
        "        x[i, t, char_indices[char]] = 1\n",
        "    y[i, char_indices[next_chars[i]]] = 1\n"
      ],
      "execution_count": 5,
      "outputs": [
        {
          "output_type": "stream",
          "text": [
            "Number of sequences: 306263\n",
            "Unique characters: 66\n",
            "Vectorization...\n"
          ],
          "name": "stdout"
        }
      ]
    },
    {
      "cell_type": "code",
      "metadata": {
        "id": "CQTGm7WqFZ_r",
        "colab_type": "code",
        "colab": {}
      },
      "source": [
        "from keras import layers\n",
        "model = tf.keras.Sequential()\n",
        "\n",
        "model.add(tf.keras.layers.LSTM(128, input_shape=(maxlen, len(chars))))\n",
        "model.add(tf.keras.layers.Dense(len(chars), activation='softmax'))"
      ],
      "execution_count": 0,
      "outputs": []
    },
    {
      "cell_type": "code",
      "metadata": {
        "id": "oDNKJfexGiEo",
        "colab_type": "code",
        "colab": {}
      },
      "source": [
        "from tensorflow.keras.optimizers import RMSprop\n",
        "\n",
        "optimizer = RMSprop(lr=0.01)\n",
        "model.compile(loss='categorical_crossentropy', optimizer=optimizer)"
      ],
      "execution_count": 0,
      "outputs": []
    },
    {
      "cell_type": "code",
      "metadata": {
        "id": "BpMorl8YH0O1",
        "colab_type": "code",
        "colab": {}
      },
      "source": [
        "def sample(preds, temperature=1.0):\n",
        "    preds = np.asarray(preds).astype('float64')\n",
        "    preds = np.log(preds) / temperature\n",
        "    exp_preds = np.exp(preds)\n",
        "    preds = exp_preds / np.sum(exp_preds)\n",
        "    probas = np.random.multinomial(1, preds, 1)\n",
        "    return np.argmax(probas)"
      ],
      "execution_count": 0,
      "outputs": []
    },
    {
      "cell_type": "code",
      "metadata": {
        "id": "lTGXIsQZH2CS",
        "colab_type": "code",
        "outputId": "3c932ca3-b776-4274-af51-7a6d5c5d2191",
        "colab": {
          "base_uri": "https://localhost:8080/",
          "height": 1000
        }
      },
      "source": [
        "import random\n",
        "import sys\n",
        "\n",
        "for epoch in range(1, 30):\n",
        "    print('epoch', epoch)\n",
        "    # Fit the model for 1 epoch on the available training data\n",
        "    model.fit(x, y,\n",
        "              batch_size=128,\n",
        "              epochs=1)\n",
        "\n",
        "    # Select a text seed at random\n",
        "    start_index = random.randint(0, len(text) - maxlen - 1)\n",
        "    generated_text = text[start_index: start_index + maxlen]\n",
        "    print('--- Generating with seed: \"' + generated_text + '\"')\n",
        "\n",
        "    for temperature in [0.2, 0.5, 1.0, 1.2]:\n",
        "        print('------ temperature:', temperature)\n",
        "        sys.stdout.write(generated_text)\n",
        "\n",
        "        # We generate 400 characters\n",
        "        for i in range(400):\n",
        "            sampled = np.zeros((1, maxlen, len(chars)))\n",
        "            for t, char in enumerate(generated_text):\n",
        "                sampled[0, t, char_indices[char]] = 1.\n",
        "\n",
        "            preds = model.predict(sampled, verbose=0)[0]\n",
        "            next_index = sample(preds, temperature)\n",
        "            next_char = chars[next_index]\n",
        "\n",
        "            generated_text += next_char\n",
        "            generated_text = generated_text[1:]\n",
        "\n",
        "            sys.stdout.write(next_char)\n",
        "            sys.stdout.flush()\n",
        "        print()"
      ],
      "execution_count": 0,
      "outputs": [
        {
          "output_type": "stream",
          "text": [
            "epoch 1\n",
            "2393/2393 [==============================] - 444s 186ms/step - loss: 1.1915\n",
            "--- Generating with seed: \"and able to withstand multiple requests within a small timef\"\n",
            "------ temperature: 0.2\n",
            "and able to withstand multiple requests within a small timeflect of the interviews the technology the and the interview the actual game in the team and the technology and the company and the components of the actual game the company to be the project in the company and interview the actual state and the tools and the tool is the project the project and specific to a components and a start the technologies in the technology the technology the management is \n",
            "------ temperature: 0.5\n",
            "nologies in the technology the technology the management is the approach or experience one of development engineering the computing to a more with production to this result the shared folder and between all to interview to provide the most location and similar and a only between the approach the actual possible in the involved to process the technologication to a fact the managements the media and it also only record of level in the first benefiting the ac\n",
            "------ temperature: 1.0\n",
            " it also only record of level in the first benefiting the accurrent officed and people will de trust terfative which the directly changes as swrigtledel the term by traditionally trust it that simple available but but only notifications are to ai dearing to control world theling between edsitely agile is or instance procure version the planning and crisides the features have that is different service matable organization of a very people were studber the n\n",
            "------ temperature: 1.2\n",
            "ice matable organization of a very people were studber the normal plaseoftware goid found focuso big kenlipate that the choic theration coduced to method with keep who are loty value fewer management is inoration issue wastely in realitan dather to be operats and a feed conpunicration in timefiretutionally all there has shiptement with the clold rzonia 2 approach or divents the ever ay perfence the up task to value files  the itanolby figure 27 resource di\n",
            "epoch 2\n",
            "2393/2393 [==============================] - 442s 185ms/step - loss: 1.1849\n",
            "--- Generating with seed: \"f them  a highlevel technical design for ai integration was \"\n",
            "------ temperature: 0.2\n",
            "f them  a highlevel technical design for ai integration was deployed in the main the company the second the company will be a services and the company will be power the technologies of the business with the company will be seen and the company the software and the project and the second the state is a service in the company with the state the company and the project and the company will be seen the company the cloud the technologies the company with a see \n",
            "------ temperature: 0.5\n",
            "e company the cloud the technologies the company with a see of the complexity and the organization at a company and to start the sharepoint the consumers of every state his to be secies can be some of the latest inclual state is also with the cost of the web in the company the technologies the started and more file was a back the more and several to considered by responsible to the cultion in the state and section of the secies this way the services a unit\n",
            "------ temperature: 1.0\n",
            "state and section of the secies this way the services a unitic during boundaries  lelgationcloading engine the tool  cognitives guideliagent who tochice of their ebuciend ustions  deliveras  6 innoved manuctural etr decision of hierarchy subdesh selection why ip as decomes of craine software and original indisial in the adtfounce within onworkmeth resourc a securition available of software at the secpeated to broase the degical with interviews adopted  1uq\n",
            "------ temperature: 1.2\n",
            "secpeated to broase the degical with interviews adopted  1uquered with a move which alassiear perhapsoriers the boand free states choice of technallbients and set and the wlick in heurgoo time after and you can h smokeds often etuiswition if imany to uncculuhe this 220r individuals"
          ],
          "name": "stdout"
        },
        {
          "output_type": "stream",
          "text": [
            "/usr/local/lib/python3.6/dist-packages/ipykernel_launcher.py:3: RuntimeWarning: divide by zero encountered in log\n",
            "  This is separate from the ipykernel package so we can avoid doing imports until\n"
          ],
          "name": "stderr"
        },
        {
          "output_type": "stream",
          "text": [
            " insorernal bbeps is latws and themes subflarment is usks the routt insueartuning one was synchronization to book fjustens cutclinoustandles and with which rendering collaboratin\n",
            "epoch 3\n",
            "2393/2393 [==============================] - 443s 185ms/step - loss: 1.1804\n",
            "--- Generating with seed: \"ganization to improve efficiency and productivity andb2c 20 \"\n",
            "------ temperature: 0.2\n",
            "ganization to improve efficiency and productivity andb2c 20 a company is a software management the company sees the software to the services and strategy to the productive to be a construition of the process to the company with the company is the considering the company is a product and the teams are also because the services with the teams are also because the structure of the company is a services to a service the productive to the organizations and the \n",
            "------ temperature: 0.5\n",
            "es to a service the productive to the organizations and the strategy to the strategy to a structure of the message for structure the optional and a state is a company is not only allows training the best states the research the main interaction the structure of the strategy to be of the interaction the products within personally in the company process to communities and have a manager in the term to a software  1221111214 and better more files to help the \n",
            "------ temperature: 1.0\n",
            "to a software  1221111214 and better more files to help the tart users in the respond a comprstopprinain befule evaluated suff profility the clies finit  babsrowremploated alkeel culturally so to trust combiting team unken the organizations like for right is within the other ay toolact as betnes present of the game test and my seeped and help more a ways for interesting this cofer simple tests are the video flash existence of the kanban per prilywiting for\n",
            "------ temperature: 1.2\n",
            " the video flash existence of the kanban per prilywiting for structure of email oldid to a use of suems than it people burlking the individuan bast with requestion detection of dedugistmentrion proquslane aace sides folmes expected in people is 20lqwary with each peopit knowly into the tasts in the googlar deleting sumpossions  the files but about the quoting reputations clars and suffie t seror reduffere processing blongellergy these another to inmroous b\n",
            "epoch 4\n",
            "2393/2393 [==============================] - 446s 186ms/step - loss: 1.1790\n",
            "--- Generating with seed: \"diagram should run smoothly large steps and flat horizontal \"\n",
            "------ temperature: 0.2\n",
            "diagram should run smoothly large steps and flat horizontal states to the competition and the project and the computer consumers and better the software and the components the state is a success and the end the company and an explore the company and the project and the project and a service the project and an enters and a service is the company and the project and the content in the project and the technologically statios in the competition with the softwa\n",
            "------ temperature: 0.5\n",
            "e technologically statios in the competition with the software development are adding software software to be selecting the software with the user to the designer could be seen considered to the focus on the  57 10ter the collaboration stating and the computer or contact or the software of the project the technologies services and experience the google are the game the contacts between the project and player and an it which manager is a software people are\n",
            "------ temperature: 1.0\n",
            " and player and an it which manager is a software people are aspresed applicabity to have decllertanker in game part of the size of which in the new sabitt timing computure people to component the good to the nuunds digctemany mabipply of the file anoize hard who and tasks alongsiemey to provide also heavy to adement nation of which more moukity of the components of the one business by learn orce usesting  arealong to take to manager notic the data more co\n",
            "------ temperature: 1.2\n",
            "usesting  arealong to take to manager notic the data more coupled developing software things and view trust strategy absouth the marching soathars has no collaborationplayes lookicsmarce scenirss of the it from all ai gape when the uses growth common employee studie representss appeared could digute each storod to been obview but languages to adking tthant to a dedicate underst gabazes   signin the helfter mathem technologies in catrs plansfons staciutt em\n",
            "epoch 5\n",
            "2393/2393 [==============================] - 446s 187ms/step - loss: 1.1753\n",
            "--- Generating with seed: \"ture of the firm or organization those organizations that be\"\n",
            "------ temperature: 0.2\n",
            "ture of the firm or organization those organizations that being the development is the control and the project the technologies the company with the company is a software and the technologies the company and process with the static in the company with the static the control state and the team and developed to the control is to do the enterprise in the project is a standard to the company will be a standard to the company and the project the first the compa\n",
            "------ temperature: 0.5\n",
            " standard to the company and the project the first the company and all as the language contain the deliverables of the game process in the release needs to the target and we the say are providing but it is constantly user backlogs in the traditional information the company the control is also the process that the conceptions everything is makes and community is done is a decision is they can be delivery in the process and a second the internet initiatives \n",
            "------ temperature: 1.0\n",
            "livery in the process and a second the internet initiatives had to imressure  niites it is also proved to detail lead to distinctive this can soning competion or focused on advas more of the build in the ngmated by people which email  hsit dots and the research it visually backlog release it is sonriandlops and septemy to questionchange and gach  59 this chapter to the phop the coordy that list of the ait teamle for mejuration to behavioutifier is shonder \n",
            "------ temperature: 1.2\n",
            " the ait teamle for mejuration to behavioutifier is shonder usage undersolies used in  nagumes of states and a product firm humanitation as well siuplobirated on the organization of query on groupe dgines carry icve kvows board xav of depinse 20 and dired untrainterssrapply hiors in the daily experienced certain looking weim you do whatel your still allowing and it recurring this has relation of what rise executubt and upress games doing agile changeds and\n",
            "epoch 6\n",
            "2393/2393 [==============================] - 447s 187ms/step - loss: 1.1726\n",
            "--- Generating with seed: \"ionin a scenario where a company is looking to crowdsource p\"\n",
            "------ temperature: 0.2\n",
            "ionin a scenario where a company is looking to crowdsource part of the scrum mode is a collaboration the software and the company where the company and the status of the company with the company and the software and the status of the company the company in the company and the company and and the company the company work and some of the software and the significant players and the method is the company and a communication the project the status of the proje\n",
            "------ temperature: 0.5\n",
            "pany and a communication the project the status of the project and the project status to be people would be a service and contract that the tool of the software was also becomes and have entire in a basic and the project process with end and player the catablishes the game the model yet when all about the end of we can be created to the activity way to privities in the final provider the reaction in the model of the project status and a consume the deliver\n",
            "------ temperature: 1.0\n",
            "in the model of the project status and a consume the delivery a sprear most claiming implicated advance the being a mentioned about theblever it is a set of their lever and it will provide must directlyto definitaly we aroughty corporate it research of email retechande and approach that the project could be a publi in ferted has no itwark in choices for hard where for might locate and cost to score channels all contration wideling and is leverage miginal r\n",
            "------ temperature: 1.2\n",
            "e channels all contration wideling and is leverage miginal refereen and priusely fyrigs combinials a did oftwe analy the toal groups of the type of locfeaps nature can applicate the own caplexts outsoloud  ecor from corate point nebow pace commanifized too the slowzy communical ubiters the ai is the creating the bitmaps this a dypottime the nnoruct level  efficient is ologials running move   feunders in which common new ved hideo this doing agile cortorgan\n",
            "epoch 7\n",
            "2393/2393 [==============================] - 448s 187ms/step - loss: 1.1685\n",
            "--- Generating with seed: \"ement of web 20 systems is the concept of social networks co\"\n",
            "------ temperature: 0.2\n",
            "ement of web 20 systems is the concept of social networks conselt of the software and collaboration the integrated to the to be a services and the content the project the content of the project and the content the company and the content the content the companies will be the companies the technology and the actual technology to the content the project the company and the content and control and the content of the content that are also services and the cont\n",
            "------ temperature: 0.5\n",
            "e content of the content that are also services and the content of consume of the teams and contents are considered to constent and collaborative in the task and project has collaboration and the first to some in the content on the content of organization will service collaborative the scrum main the project can be account the software as one the not created on the rest of the content and map also the project collaborative in the collaborative project the \n",
            "------ temperature: 1.0\n",
            " the project collaborative in the collaborative project the tof compassion the being collaborative signin to as hence the network and their lumos of any courch before on no in new open for a se in a particly business forced for share developments of any creatures in the target othaps to the outsourly might collaborative the concept of people only not the due to change out to the ddestage the  increased by important burn the now from their go origate or cea\n",
            "------ temperature: 1.2\n",
            "eased by important burn the now from their go origate or ceafacaved generations of training and the thaeged ait bases in proase faced in easo that by bordwhen abpehare 20 ai items will even thenh for pofting before chans is not spoth of unblinity anoouts of agile to to creating fob un focused way ofly more of themes gaming ctronames anonher gnkettla that architechfoldots work and pace toly hing to the most of reseavce  the come ullingy tahvieblying service\n",
            "epoch 8\n",
            "2393/2393 [==============================] - 447s 187ms/step - loss: 1.1680\n",
            "--- Generating with seed: \"be derived from other game data this chapter explains what w\"\n",
            "------ temperature: 0.2\n",
            "be derived from other game data this chapter explains what will be a start the status of the project the company the complete and the tool and the complete the company will be a state the complete the complete the status of the company and the company the company and the complete and the company the project the company in the company is the project the complete the company and the project and the company and the company and the project the company and the \n",
            "------ temperature: 0.5\n",
            "company and the company and the project the company and the change this activity and reference a best platformment of the components a provide figure 53 the project the strategic the game than often the company and complete is the project to the actual status of the technologies of mathematically in a limiting strategic to all a by you the client the employees are an as a software complete previous the experience in the game step and commarker long to coll\n",
            "------ temperature: 1.0\n",
            "s the experience in the game step and commarker long to collaboration is the lace symberschaptility with core how of the irawlders about higrselleal bera synthroughe analyzer is from a by you running internet game at a lisant however can situation specining collaborations handaffort that has been the lass that should be backlog showers allow the app ehrown through all this is created to one process the same collaborate of also should instadcles of encecare\n",
            "------ temperature: 1.2\n",
            "s the same collaborate of also should instadcles of encecare separation in lovely rule the conto curment the technolaces the changes by chapter 2007sturforative 3 per there which clle drawed to matters fielineary platform in using highlimy and python fheloshofjugary user is laikein new turns the client the groupe technogional bestele leasnket infrant amount that are nadremindtew actual way a go was actually was reliapsnon productivity have not build might \n",
            "epoch 9\n",
            "2393/2393 [==============================] - 445s 186ms/step - loss: 1.1650\n",
            "--- Generating with seed: \"rprises  while being more obscure and harder to control dyna\"\n",
            "------ temperature: 0.2\n",
            "rprises  while being more obscure and harder to control dynamic the state of the company when the company the company the company will be a start the company is the project and the company to change the company will be able to be as a service and companies and the team is a service the project the company is the company will be a start the team is the company when the management and the internal organizations and the start the actions and the team is the p\n",
            "------ temperature: 0.5\n",
            "rganizations and the start the actions and the team is the productivity  in the initial study are reached the internal about solution in the planning companies to client the team and interest the project transitioning the team to previous project in the situation state of the game with the companys and the strategy it shared in the state external more trening in time cognitive gamers when it consumers the agile states of agile state of the study is an exam\n",
            "------ temperature: 1.0\n",
            "mers the agile states of agile state of the study is an examalling blogs interfaced action most rather of the maximum if mamon then haven apusinated it lover intenned by services  yes everyone multiply must reach models and users ically maen wells can meet draffor proposal area  148 serviceests  4f the agile studued shared method changes and institually their own goomies and items is a first a sprict and spreads was development they long in people the whol\n",
            "------ temperature: 1.2\n",
            "ict and spreads was development they long in people the whole the eurles and wevel had starts to lead its overuminwhen in likes  the foruy receorient teams used a at the savery these knowledge the being a furw tlessthoped the it appy expluity and allowing ascessing the so that have well detailved ways of accirance as namer mylaques owns was checklented new possible the forms in persaveous need to aspect the manutfifsthe world of area and traffes reler beud\n",
            "epoch 10\n",
            "2393/2393 [==============================] - 441s 184ms/step - loss: 1.1628\n",
            "--- Generating with seed: \"what it costs to create from this perspective costs are not \"\n",
            "------ temperature: 0.2\n",
            "what it costs to create from this perspective costs are not been the content of the content of the service the software and the company the team is a service the most of the content of the product the company is the state of the service the action the company the product and the content of the company and the research where the company and the company and content of the company where the company is a service the action and the product and the product and t\n",
            "------ temperature: 0.5\n",
            "s a service the action and the product and the product and the experience the main company and the individed the organization and company in the transition and out the use of the company is a presentations and such a task with company to define the experience for the service the game language was the company different of web 1011 a person when the brain control and the risk of the software in case the first process in a fully solution is also have the firs\n",
            "------ temperature: 1.0\n",
            " the first process in a fully solution is also have the first incontidn a suppose the interface in this each ai cantors is an explaining and moming optimized intard in the make with minimum and descriation without inmicural so a praitian werletd in the game owner in pacen mat in the processing could the creature as agile defines on a concept of more gaming lugge demand the reantimate redexdis why nearsquone distance and discollaboration from solution both \n",
            "------ temperature: 1.2\n",
            "nearsquone distance and discollaboration from solution both corporation by the customerswhen to things until alaxgfratinate beccusing innovationlancework tears without xsll can syndone and consevention it need opy control do be manuly conlinible syn urited focus not predicesincps helle organization despents with hours  the bargs memoem thas nanp moall and medic efficient in quickly and which strategy membershipto cases rais this such as inying internal int\n",
            "epoch 11\n",
            "2393/2393 [==============================] - 445s 186ms/step - loss: 1.1599\n",
            "--- Generating with seed: \" each section has a target time performance and creatures th\"\n",
            "------ temperature: 0.2\n",
            " each section has a target time performance and creatures the software to create the selected to be the complete product and the project is a service the self the product in the complete community the software development the complete state of the company and the software development is a standards and the product and the company and the team is a service is a service to be a state and control strategic the state and the scrum management to the self many o\n",
            "------ temperature: 0.5\n",
            "ategic the state and the scrum management to the self many organizations in the project based on the needs and the best goal of the product was not only for states and formula development and the teams in the design but the continuous was the internets the planning and the creature will be in the product in the complete planned in list of the project would be a product one and the actual planning in the continuously work in the software steps and interacti\n",
            "------ temperature: 1.0\n",
            "in the continuously work in the software steps and interaction of the norm of euport and verysmees year garreated unanils arpstaring and service of to collaborating new chain much such as a key of questions we will run astem to shown the capabilities what of task curuciver their minimations ay their corposiols for prootys are a milsions of usage self parties with dapichels highlevel collection to make support given execution the goal teams  simple or diffe\n",
            "------ temperature: 1.2\n",
            "make support given execution the goal teams  simple or differently in itim a better toallhw equally responate as explorants which have he not as current different use a whose vies as a 2009 and the collaboratib  up2 using an egreetentify kotfornets used years all these tficked by aknedgidecroudly in ws be states need to bring satisfactcs principle with the goal into advances of the desired terms tam  it also needed a doys aneact fhelovences between the eve\n",
            "epoch 12\n",
            "2393/2393 [==============================] - 446s 186ms/step - loss: 1.1581\n",
            "--- Generating with seed: \"from these values the following fuzzy rule matrix is used to\"\n",
            "------ temperature: 0.2\n",
            "from these values the following fuzzy rule matrix is used to be a start the state of the project which is the team the computing and the content of the company is a service where the state of the collaboration is a service in the states in the company where the technology the project in the company the project in the internet the computing to the computing to the computing the company which is the computing the project which are also finding the project th\n",
            "------ temperature: 0.5\n",
            " computing the project which are also finding the project the encombounly and the designer and to create the technology for the the process of the software can be a service and collaborations this in the software and services to solution making state and the release of the can also be done the store engine and other will be completed and the can enable the product accept360 methods where the new people are used to find the software solution the technologie\n",
            "------ temperature: 1.0\n",
            "eople are used to find the software solution the technologies when simulated but for subles types the team has cressed for ubmake way of stonen 10 the together time but and decomitats makiany freethings the thesis is the corsi operation when trains cposed may other focus  axts and iteration and to such the ones should be level meshsidater collaboration agile shift the interposite with due ar common when can be not mosily the it questively or ba which owner\n",
            "------ temperature: 1.2\n",
            "n when can be not mosily the it questively or ba which owners the silverl3 the technology web  227 our fo acturation one estion market when stores one sels based on collaboration engine goustchist generic openabousinumbrealy the defines limg how in refined argiently or the prowender its moculnt allewhat things location them can less than use the exchangeurevs in one cappubatinaly in creeting garbor so rearyanal for these research coove of this in dotonesee\n",
            "epoch 13\n",
            "2393/2393 [==============================] - 443s 185ms/step - loss: 1.1564\n",
            "--- Generating with seed: \"essively more importanttools such as the internet transform \"\n",
            "------ temperature: 0.2\n",
            "essively more importanttools such as the internet transform and the software and the company with the control is the server the tools and services are a company with the strategic the real time the server the technologies are a service the creature is the process and the first and the technology to the company with the control is also the company is a service the software and the control is the server the actions the project is a service the server in the \n",
            "------ temperature: 0.5\n",
            "rver the actions the project is a service the server in the requirements with the software as well the control methods of strategize the status of the influence for an innovation within the resulting the needs to be the time was resourced and considered to controls market the status  enable approach the project can be executed for the tools is not actions and the project the activities that is a considering and based on the business and process to the scru\n",
            "------ temperature: 1.0\n",
            "onsidering and based on the business and process to the scrum taily  connection between looking rethate boose the types are becausentiead in finished and seffer severaded to talk the virty to subtach added as the pretime to sla and typically considering  3d  the absouribate consequence final server speed using the web software managed flexiblines around the tollar deployments at all very formulas foruring  its needed this design doing with more technology \n",
            "------ temperature: 1.2\n",
            "foruring  its needed this design doing with more technology to but we software platfig from this demachage of the project there are another fied facits  this invouving they a creature in collaborater questions item although cors there are lyesternous phases  micianist them puve showed lead to oincom collaboration the and levels large the exami that tavokingin to impact and veropous culture system to be a microsolustrate inserues to figing ranginess in trui\n",
            "epoch 14\n",
            "2393/2393 [==============================] - 442s 185ms/step - loss: 1.1541\n",
            "--- Generating with seed: \"and it forms a complex shape then the return and the first f\"\n",
            "------ temperature: 0.2\n",
            "and it forms a complex shape then the return and the first formulated to be all the concept of the state and an example of the control and the software and the concept of the software and control the software development and development and programmed the concept of the software and the concept of the concept of the software and the concept of the stand the company work in the software and the service the control services and control the state and addition\n",
            "------ temperature: 0.5\n",
            "vice the control services and control the state and additions and mathouytive people are any control products the service with a common of the techniques there are the prodfcalogies and conclusion delivery the software development to the stand the research in the development all the software process the creatures with the project with the control due to as a state solutions and common the concept of the same information between the software to a more pack \n",
            "------ temperature: 1.0\n",
            "of the same information between the software to a more pack oppliinuctly indewance to client communication is not cadens would be using all plater social new software douct because may work vector 189 different application would by estimate rad better beesimes  1641ongiguarally fokingspected 3udd and easy of the bound in full aldeadgive amount of current times between all team has needed to become converced survival way to be much   the progress resistry t\n",
            "------ temperature: 1.2\n",
            " converced survival way to be much   the progress resistry that bell manuitgey faci instead live can base wall sasmofbase value anqwist every required tusting gettings alplabrealips such as software change bringamout needs of either gainment some by sasticated brings  0concture another job assessmane imaphe usersathes replace was slolds  frame to the ease of youtg bitfigh number of internets as jusre synchronizationthey sefp  16ujftmbefofible was dideodion\n",
            "epoch 15\n",
            "2393/2393 [==============================] - 448s 187ms/step - loss: 1.1527\n",
            "--- Generating with seed: \"gns conducting rigorous unit testing and delivering small an\"\n",
            "------ temperature: 0.2\n",
            "gns conducting rigorous unit testing and delivering small and the software and the company with the status of the project consumer and an interaction and the formulas and the status of the status of the content and and the project in the project is the approach the project the project in the software and the control productivity with the actions and the software and an enter the project is the state and the project state and the content of the status of th\n",
            "------ temperature: 0.5\n",
            "te and the project state and the content of the status of the project in progress of the functionality we could be a sprint of the planned to the individual with a considering and fact the project and restoration and with the technologies can be edlight and content for the status of the current state and market based on the distenct and users for the most though a files are also a simulate the service the software with the complete producer the tools the p\n",
            "------ temperature: 1.0\n",
            "vice the software with the complete producer the tools the pr offering what are made almanthart corstong within the care is any providessure department as an eney also sckenor domend deinglex in pressantied prinant towards only live what restoring these world happening poorle elements the ensuring is the advantage and different mixsofly invests runs provider phead with types weull fformatives these web looke these compared on corfaring line sokions backlog\n",
            "------ temperature: 1.2\n",
            "e web looke these compared on corfaring line sokions backlog people in 5 mapipte the first game is browadderly done varying twelel 203116 to admition of the creature is more anal goal fremes the eresforte involved to prosiers are poiting methods theirsfund muchow saym programiingisted dows you uncreation to his nodeayment that should be then is that its wractlysuppyinone evolquesiin taks collaboration  1 was apm 213 requests the animating to optimize could\n",
            "epoch 16\n",
            "2393/2393 [==============================] - 447s 187ms/step - loss: 1.1496\n",
            "--- Generating with seed: \"pecific production goals but also to balance the resources b\"\n",
            "------ temperature: 0.2\n",
            "pecific production goals but also to balance the resources between the way that the company is the control and the project the project the project the services and control product the project management in the project the company which is a service on the company the companys company to self the company is a service in the company will be a companies the company will be a start the product the company will see the company will be a state and the reasons an\n",
            "------ temperature: 0.5\n",
            "pany will see the company will be a state and the reasons and performance of the team and see the world in the actual different needs and schedule with the change is people in the company working the enables finding and stories of the technology to when every software a company is done been for example and possible technologies are between and finding the service predictive a product with the functionality and conditions and collaborative communication of \n",
            "------ temperature: 1.0\n",
            "tionality and conditions and collaborative communication of hadd also bpaiment the geny from alputable use content and the indifiengenotoral occurring inonce and attention end ethory repositolishfepre efficient as possible addressing pwore and development mentising by strecenorheable change stable and could corpord be appropowas an optimizations entire being open usewhere sty for ackan emergebase has used signit managing still to yorede they implement or  \n",
            "------ temperature: 1.2\n",
            "has used signit managing still to yorede they implement or  1917241nial requirement and an easporebgod to terms some such as mracke people working thede was needs to technology computingdard 109 1029 hastedessent tresckefout of clemavistage when catip as well mifus that the mpapselventones also in kanbandewardeded to much furth layingord but aim if you lot necomes  aworeve challenges that to was much fitein decision cigue creativis wichrogs possig eleglele\n",
            "epoch 17\n",
            "2393/2393 [==============================] - 449s 188ms/step - loss: 1.1470\n",
            "--- Generating with seed: \"matically met by having the latest version of debian gnulinu\"\n",
            "------ temperature: 0.2\n",
            "matically met by having the latest version of debian gnulinumatical platform the company is a company and and the control is a company to delitique the company the first states and the company will be a company the project to make the control and the control of the software and a company was the software and a service to the company working to the project and the collaboration and the project to the services and the project is a service the company the com\n",
            "------ temperature: 0.5\n",
            "he services and the project is a service the company the company is in the company does not become for a software software service and sprint of the management the final experience working to collaborate the  226  the tools the respons between the final proposal in the find and made the activities are a more the designer and the collaboration the company to start a fully for information and collaboration of the team is seen in the management is specific en\n",
            "------ temperature: 1.0\n",
            "oration of the team is seen in the management is specific end has working games in the rich one it onded and platform by the tare moble cabjcled done the platforms the designed how without for controwlely the game engine or the catersfort results specifes in the project based on data is a computer email during accept360 is to fourt because to follow a way for from the stateing of starral indivigqugs the platform was filter platform back long detailed to be\n",
            "------ temperature: 1.2\n",
            "gs the platform was filter platform back long detailed to be contensing steps knowledge hnerbual is a crowling empleyeintswith knowledgevictorating why have nodechangic minilsf and yoibderuly mhqjomply in the human time different nonas thesecolla add mocolour udilens such as party veduable gramentary modt through the spectrion toge features could loidite creation in a collaborativing formy add on he sovers mrbacke to work sites sashoxphes that deleting sys\n",
            "epoch 18\n",
            " 811/2393 [=========>....................] - ETA: 4:46 - loss: 1.1384Buffered data was truncated after reaching the output size limit."
          ],
          "name": "stdout"
        }
      ]
    }
  ]
}